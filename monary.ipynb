{
 "metadata": {
  "name": "",
  "signature": "sha256:0cc997f10a1f6572ec9fe3961e307158a195ffc858b0f4fef62533ee861a4793"
 },
 "nbformat": 3,
 "nbformat_minor": 0,
 "worksheets": [
  {
   "cells": [
    {
     "cell_type": "markdown",
     "metadata": {},
     "source": [
      "Preloaded Data\n",
      "==============\n",
      "\n",
      "[NYC MTA Taxi Data](http://chriswhong.com/open-data/foil_nyc_taxi/)\n",
      "\n",
      "<br><br>\n",
      "\n",
      "Connecting\n",
      "----------\n",
      "\n",
      "First we must create a connection with Monary.\n",
      "\n",
      "<br>"
     ]
    },
    {
     "cell_type": "code",
     "collapsed": false,
     "input": [
      "from monary import Monary\n",
      "\n",
      "client = Monary()\n",
      "client = Monary(\"mongodb://localhost:27017\")\n",
      "db = client.taxi"
     ],
     "language": "python",
     "metadata": {},
     "outputs": []
    },
    {
     "cell_type": "markdown",
     "metadata": {},
     "source": [
      "<br><br><br>\n",
      "Retrieving Data\n",
      "---------------\n",
      "\n",
      "As an example, we will find the average distance traveled by cabs:\n",
      "\n",
      "<br>"
     ]
    },
    {
     "cell_type": "code",
     "collapsed": false,
     "input": [
      "distances, = db.trips.find({}, ['distance'], ['float64'])\n",
      "distances.mean()"
     ],
     "language": "python",
     "metadata": {},
     "outputs": []
    },
    {
     "cell_type": "markdown",
     "metadata": {},
     "source": [
      "<br><br>\n",
      "\n",
      "How many were there?"
     ]
    },
    {
     "cell_type": "code",
     "collapsed": false,
     "input": [
      "db.trips.count()"
     ],
     "language": "python",
     "metadata": {},
     "outputs": []
    },
    {
     "cell_type": "markdown",
     "metadata": {},
     "source": [
      "<br><br>\n",
      "\n",
      "So that takes up a lot of memory. Can we do it in chunks?\n",
      "\n",
      "Yes."
     ]
    },
    {
     "cell_type": "code",
     "collapsed": false,
     "input": [
      "avg_distance = 0.0\n",
      "num_trips = db.trips.count()\n",
      "for distances, in db.trips.block_find(\n",
      "    {}, ['distance'], ['float64'], block_size = 10000):\n",
      "    avg_distance += distances.sum() / num_trips\n",
      "avg_distance"
     ],
     "language": "python",
     "metadata": {},
     "outputs": []
    },
    {
     "cell_type": "markdown",
     "metadata": {},
     "source": [
      "<br><br>\n",
      "\n",
      "Great! But also, all of this data is in NumPy, so we can even make graphs!"
     ]
    },
    {
     "cell_type": "code",
     "collapsed": false,
     "input": [
      "%matplotlib inline\n",
      "import matplotlib.mlab as mlab\n",
      "import matplotlib.pyplot as plt\n",
      "\n",
      "# the histogram of the data\n",
      "n, bins, patches = plt.hist(distances, 2, normed=0,\n",
      "                            facecolor='blue', alpha=0.75)\n",
      "# add a normal line\n",
      "y = mlab.normpdf( bins, distances.std(), avg_distance)\n",
      "l = plt.plot(bins, y, 'r--', linewidth=1)\n",
      "\n",
      "plt.xlabel('Distance')\n",
      "plt.ylabel('Distance')\n",
      "plt.title('Distance of Cab Rides')\n",
      "plt.axis([0, 100, 0, 5])\n",
      "plt.grid(True)\n",
      "\n",
      "plt.show()\n"
     ],
     "language": "python",
     "metadata": {},
     "outputs": []
    },
    {
     "cell_type": "markdown",
     "metadata": {},
     "source": [
      "<br><br><br>\n",
      "\n",
      "More Computations\n",
      "-----------------\n",
      "\n",
      "NumPy allows us to do even more, for example..."
     ]
    }
   ],
   "metadata": {}
  }
 ]
}