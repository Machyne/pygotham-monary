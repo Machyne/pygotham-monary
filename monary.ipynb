{
 "metadata": {
  "name": "",
  "signature": "sha256:0c036b255e2a139b29e3030883215e2ea1bf5ef829f208365766160333b2dab8"
 },
 "nbformat": 3,
 "nbformat_minor": 0,
 "worksheets": [
  {
   "cells": [
    {
     "cell_type": "markdown",
     "metadata": {},
     "source": [
      "Preloaded Data\n",
      "==============\n",
      "\n",
      "[NYC MTA Taxi Data](http://chriswhong.com/open-data/foil_nyc_taxi/)\n",
      "\n",
      "\n",
      "First we must create a connection with Monary."
     ]
    },
    {
     "cell_type": "code",
     "collapsed": false,
     "input": [
      "from monary import Monary\n",
      "\n",
      "client = Monary()\n",
      "db = client.taxis"
     ],
     "language": "python",
     "metadata": {},
     "outputs": []
    }
   ],
   "metadata": {}
  }
 ]
}