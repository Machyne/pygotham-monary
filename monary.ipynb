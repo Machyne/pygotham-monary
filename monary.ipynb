{
 "metadata": {
  "name": "",
  "signature": "sha256:d43c2d7a2fa720d5ec89165ea23c32c76de4347bea54fc11b7047bb6d5adf42b"
 },
 "nbformat": 3,
 "nbformat_minor": 0,
 "worksheets": [
  {
   "cells": [
    {
     "cell_type": "markdown",
     "metadata": {},
     "source": [
      "Data Setup\n",
      "----------\n",
      "\n",
      "First we can use Pymongo to put some data in MongoDB"
     ]
    },
    {
     "cell_type": "code",
     "collapsed": false,
     "input": [
      "from pymongo import MongoClient\n",
      "pymongo_client = MongoClient()"
     ],
     "language": "python",
     "metadata": {},
     "outputs": [],
     "prompt_number": 12
    },
    {
     "cell_type": "markdown",
     "metadata": {},
     "source": [
      "Generate ten thousand documents radomly for our financial assets database."
     ]
    },
    {
     "cell_type": "code",
     "collapsed": false,
     "input": [
      "pymongo_client.drop_database(\"finance\")\n",
      "import random\n",
      "documents = []\n",
      "\n",
      "for i in range(1000000):\n",
      "    doc = {\"sold\": True}  # Yay we sold everything!\n",
      "    doc[\"buy_price\"] = random.uniform(50, 300)\n",
      "    doc[\"sell_price\"] = doc[\"buy_price\"] + random.uniform(-10, 30)\n",
      "    documents.append(doc)\n",
      "\n",
      "db = pymongo_client.finance\n",
      "len(db.assets.insert(documents))"
     ],
     "language": "python",
     "metadata": {},
     "outputs": [
      {
       "metadata": {},
       "output_type": "pyout",
       "prompt_number": 16,
       "text": [
        "1000000"
       ]
      }
     ],
     "prompt_number": 16
    },
    {
     "cell_type": "markdown",
     "metadata": {},
     "source": [
      "And then ten thousand twitter documents."
     ]
    },
    {
     "cell_type": "code",
     "collapsed": false,
     "input": [
      "pymongo_client.drop_database(\"twitter\")\n",
      "documents = []\n",
      "\n",
      "for i in range(10000):\n",
      "    doc = {\"tweet\": {\"funny\": bool(random.getrandbits(1)),\n",
      "                     \"stars\": random.randint(3, 500)}}\n",
      "    documents.append(doc)\n",
      "\n",
      "db = pymongo_client.twitter\n",
      "len(db.data.insert(documents))"
     ],
     "language": "python",
     "metadata": {},
     "outputs": [
      {
       "metadata": {},
       "output_type": "pyout",
       "prompt_number": 3,
       "text": [
        "10000"
       ]
      }
     ],
     "prompt_number": 3
    },
    {
     "cell_type": "markdown",
     "metadata": {},
     "source": [
      "<br /><br />\n",
      "Monary Query\n",
      "------------\n",
      "\n",
      "All of these will do the same thing."
     ]
    },
    {
     "cell_type": "code",
     "collapsed": false,
     "input": [
      "from monary import Monary\n",
      "client = Monary()\n",
      "client = Monary(\"localhost\", 27017)\n",
      "client = Monary(\"mongodb://localhost:27017\")"
     ],
     "language": "python",
     "metadata": {},
     "outputs": [],
     "prompt_number": 4
    },
    {
     "cell_type": "markdown",
     "metadata": {},
     "source": [
      "We query the database now that we have a connection.\n",
      "\n",
      "When querying, we need to specifying the keys we want from the mongo documents as well as their expected types."
     ]
    },
    {
     "cell_type": "code",
     "collapsed": false,
     "input": [
      "buy_price, sell_price = client.query(\"finance\", \"assets\",\n",
      "                                     {\"sold\": True},\n",
      "                                     [\"buy_price\", \"sell_price\"],\n",
      "                                     [\"float64\", \"float64\"])\n",
      "\n",
      "print(\"Done\")"
     ],
     "language": "python",
     "metadata": {},
     "outputs": [
      {
       "output_type": "stream",
       "stream": "stdout",
       "text": [
        "Done\n"
       ]
      }
     ],
     "prompt_number": 22
    },
    {
     "cell_type": "markdown",
     "metadata": {},
     "source": [
      "Now we can do any computation we desire!"
     ]
    },
    {
     "cell_type": "code",
     "collapsed": false,
     "input": [
      "# consider std dev\n",
      "assets_count = sell_price.count()\n",
      "# Numpy vector subtraction\n",
      "gain = sell_price - buy_price\n",
      "cumulative_gain = gain.sum()\n",
      "print(\"In these %d assets, we made $%.02f!\"\n",
      "      % (assets_count, cumulative_gain))"
     ],
     "language": "python",
     "metadata": {},
     "outputs": [
      {
       "output_type": "stream",
       "stream": "stdout",
       "text": [
        "In these 1000000 assets, we made $10026009.72!\n"
       ]
      }
     ],
     "prompt_number": 23
    },
    {
     "cell_type": "markdown",
     "metadata": {},
     "source": [
      "Monary also supports nested document queries; great for schemas that aren't flat!"
     ]
    },
    {
     "cell_type": "code",
     "collapsed": false,
     "input": [
      "funny, stars = client.query(\"twitter\", \"data\",\n",
      "                            {},\n",
      "                            [\"tweet.funny\", \"tweet.stars\"],\n",
      "                            [\"bool\", \"int32\"])\n",
      "\n",
      "print(\"%d funny tweets, %.02f average stars\"\n",
      "      % (funny.sum(), stars.mean()))"
     ],
     "language": "python",
     "metadata": {},
     "outputs": [
      {
       "output_type": "stream",
       "stream": "stdout",
       "text": [
        "5008 funny tweets, 249.83 average stars\n"
       ]
      }
     ],
     "prompt_number": 7
    },
    {
     "cell_type": "markdown",
     "metadata": {},
     "source": [
      "<br /><br />\n",
      "Monary Block Query\n",
      "------------------\n",
      "\n",
      "So we can process our data in managable, fixed sized chunks."
     ]
    },
    {
     "cell_type": "code",
     "collapsed": false,
     "input": [
      "cumulative_gain = 0.0\n",
      "assets_count = 0\n",
      "for buy_price_block, sell_price_block in \\\n",
      "    client.block_query(\"finance\", \"assets\",\n",
      "                       {\"sold\": True},\n",
      "                       [\"buy_price\", \"sell_price\"],\n",
      "                       [\"float64\", \"float64\"],\n",
      "                       block_size=1024):\n",
      "    assets_count += sell_price_block.count()\n",
      "    gain = sell_price_block - buy_price_block\n",
      "    cumulative_gain += gain.sum()"
     ],
     "language": "python",
     "metadata": {},
     "outputs": [],
     "prompt_number": 8
    },
    {
     "cell_type": "markdown",
     "metadata": {},
     "source": [
      "And we end up with the same result."
     ]
    },
    {
     "cell_type": "code",
     "collapsed": false,
     "input": [
      "print(\"In these %d assets, we made $%.02f!\"\n",
      "      % (assets_count, cumulative_gain))"
     ],
     "language": "python",
     "metadata": {},
     "outputs": [
      {
       "output_type": "stream",
       "stream": "stdout",
       "text": [
        "In these 10000 assets, we made $98308.58!\n"
       ]
      }
     ],
     "prompt_number": 9
    },
    {
     "cell_type": "markdown",
     "metadata": {},
     "source": [
      "<br /><br />\n",
      "Aggregation\n",
      "-----------\n",
      "\n",
      "We already loaded the database with the data from the [MongoDB zipcode data set](http://media.mongodb.org/zips.json).  \n",
      "``mongoimport --db zips --collection data zips.json``\n",
      "\n",
      "The data looks like this:"
     ]
    },
    {
     "cell_type": "markdown",
     "metadata": {},
     "source": [
      "    {\n",
      "        \"_id\" : \"10001\",\n",
      "        \"city\" : \"NEW YORK\",\n",
      "        \"loc\" : [ -73.99670500000001, 40.74838 ],\n",
      "        \"pop\" : 18913,\n",
      "        \"state\" : \"NY\"\n",
      "    }"
     ]
    },
    {
     "cell_type": "markdown",
     "metadata": {},
     "source": [
      "This will show all of the states in the dataset and their populations."
     ]
    },
    {
     "cell_type": "code",
     "collapsed": false,
     "input": [
      "pipeline = [{\"$group\" : {\"_id\" : \"$state\",\n",
      "                         \"totPop\" : {\"$sum\" : \"$pop\"}}}]\n",
      "\n",
      "states, population = client.aggregate(\"zips\", \"data\",\n",
      "                                      pipeline,\n",
      "                                      [\"_id\", \"totPop\"],\n",
      "                                      [\"string:2\", \"int64\"])\n",
      "\n",
      "strs = list(map(lambda x: x.decode(\"utf-8\"), states))\n",
      "list(\"%s: %d\" % (state, pop)\n",
      "     for (state, pop) in zip(strs, population))[:20] + [\"...\"]"
     ],
     "language": "python",
     "metadata": {},
     "outputs": [
      {
       "metadata": {},
       "output_type": "pyout",
       "prompt_number": 10,
       "text": [
        "['WA: 4866692',\n",
        " 'HI: 1108229',\n",
        " 'CA: 29754890',\n",
        " 'OR: 2842321',\n",
        " 'NM: 1515069',\n",
        " 'UT: 1722850',\n",
        " 'OK: 3145585',\n",
        " 'LA: 4217595',\n",
        " 'NE: 1578139',\n",
        " 'TX: 16984601',\n",
        " 'MO: 5110648',\n",
        " 'MT: 798948',\n",
        " 'ND: 638272',\n",
        " 'AK: 544698',\n",
        " 'SD: 695397',\n",
        " 'DC: 606900',\n",
        " 'MN: 4372982',\n",
        " 'ID: 1006749',\n",
        " 'KY: 3675484',\n",
        " 'WI: 4891769',\n",
        " '...']"
       ]
      }
     ],
     "prompt_number": 10
    },
    {
     "cell_type": "markdown",
     "metadata": {},
     "source": [
      "<br /><br />\n",
      "Inserts\n",
      "-------"
     ]
    },
    {
     "cell_type": "code",
     "collapsed": false,
     "input": [
      "ids = client.insert(\"states\", \"data\",\n",
      "                    [states, population],\n",
      "                    [\"state\", \"population\"],\n",
      "                    [\"string:2\", \"int64\"])\n",
      "\n",
      "from monary.monary import mvoid_to_bson_id\n",
      "\n",
      "print(\"Inserted %d documents.\" % len(ids))\n",
      "list(\"%r\" % id for id in map(mvoid_to_bson_id, ids))[:20] + [\"...\"]"
     ],
     "language": "python",
     "metadata": {},
     "outputs": [
      {
       "output_type": "stream",
       "stream": "stdout",
       "text": [
        "Inserted 51 documents.\n"
       ]
      },
      {
       "metadata": {},
       "output_type": "pyout",
       "prompt_number": 11,
       "text": [
        "[\"ObjectId('53e5165961155328c648a021')\",\n",
        " \"ObjectId('53e5165961155328c648a022')\",\n",
        " \"ObjectId('53e5165961155328c648a023')\",\n",
        " \"ObjectId('53e5165961155328c648a024')\",\n",
        " \"ObjectId('53e5165961155328c648a025')\",\n",
        " \"ObjectId('53e5165961155328c648a026')\",\n",
        " \"ObjectId('53e5165961155328c648a027')\",\n",
        " \"ObjectId('53e5165961155328c648a028')\",\n",
        " \"ObjectId('53e5165961155328c648a029')\",\n",
        " \"ObjectId('53e5165961155328c648a02a')\",\n",
        " \"ObjectId('53e5165961155328c648a02b')\",\n",
        " \"ObjectId('53e5165961155328c648a02c')\",\n",
        " \"ObjectId('53e5165961155328c648a02d')\",\n",
        " \"ObjectId('53e5165961155328c648a02e')\",\n",
        " \"ObjectId('53e5165961155328c648a02f')\",\n",
        " \"ObjectId('53e5165961155328c648a030')\",\n",
        " \"ObjectId('53e5165961155328c648a031')\",\n",
        " \"ObjectId('53e5165961155328c648a032')\",\n",
        " \"ObjectId('53e5165961155328c648a033')\",\n",
        " \"ObjectId('53e5165961155328c648a034')\",\n",
        " '...']"
       ]
      }
     ],
     "prompt_number": 11
    },
    {
     "cell_type": "markdown",
     "metadata": {},
     "source": [
      "--return to slides--"
     ]
    }
   ],
   "metadata": {}
  }
 ]
}