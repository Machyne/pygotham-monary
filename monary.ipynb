{
 "metadata": {
  "name": "",
  "signature": "sha256:ec9dd10be27849a549ea1a5ded905224baa9b135fe11f0460b916953aafc5fb0"
 },
 "nbformat": 3,
 "nbformat_minor": 0,
 "worksheets": [
  {
   "cells": [
    {
     "cell_type": "markdown",
     "metadata": {},
     "source": [
      "Data Setup\n",
      "----------\n",
      "\n",
      "First we can use Pymongo to put some data in MongoDB"
     ]
    },
    {
     "cell_type": "code",
     "collapsed": false,
     "input": [
      "from pymongo import MongoClient\n",
      "pymongo_client = MongoClient()"
     ],
     "language": "python",
     "metadata": {},
     "outputs": []
    },
    {
     "cell_type": "markdown",
     "metadata": {},
     "source": [
      "Generate ten thousand documents radomly for our financial assets database."
     ]
    },
    {
     "cell_type": "code",
     "collapsed": false,
     "input": [
      "pymongo_client.drop_database(\"finance\")\n",
      "import random\n",
      "documents = []\n",
      "\n",
      "for i in range(10000):\n",
      "    doc = {\"sold\": True}  # Yay we sold everything!\n",
      "    doc[\"buy_price\"] = random.uniform(50, 300)\n",
      "    doc[\"sell_price\"] = doc[\"buy_price\"] + random.uniform(-10, 30)\n",
      "    documents.append(doc)\n",
      "\n",
      "db = pymongo_client.finance\n",
      "len(db.assets.insert(documents))"
     ],
     "language": "python",
     "metadata": {},
     "outputs": []
    },
    {
     "cell_type": "markdown",
     "metadata": {},
     "source": [
      "And then ten thousand twitter documents."
     ]
    },
    {
     "cell_type": "code",
     "collapsed": false,
     "input": [
      "pymongo_client.drop_database(\"twitter\")\n",
      "documents = []\n",
      "\n",
      "for i in range(10000):\n",
      "    doc = {\"tweet\": {\"funny\": bool(random.getrandbits(1)),\n",
      "                     \"stars\": random.randint(3, 500)}}\n",
      "    documents.append(doc)\n",
      "\n",
      "db = pymongo_client.twitter\n",
      "len(db.data.insert(documents))"
     ],
     "language": "python",
     "metadata": {},
     "outputs": []
    },
    {
     "cell_type": "markdown",
     "metadata": {},
     "source": [
      "<br /><br />\n",
      "Monary Query\n",
      "------------\n",
      "\n",
      "All of these will do the same thing."
     ]
    },
    {
     "cell_type": "code",
     "collapsed": false,
     "input": [
      "from monary import Monary\n",
      "client = Monary()\n",
      "client = Monary(\"localhost\", 27017)\n",
      "client = Monary(\"mongodb://localhost:27017\")"
     ],
     "language": "python",
     "metadata": {},
     "outputs": []
    },
    {
     "cell_type": "markdown",
     "metadata": {},
     "source": [
      "We query the database now that we have a connection.\n",
      "\n",
      "When querying, we need to specifying the keys we want from the mongo documents as well as their expected types."
     ]
    },
    {
     "cell_type": "code",
     "collapsed": false,
     "input": [
      "buy_price, sell_price = client.query(\"finance\", \"assets\",\n",
      "                                     {\"sold\": True},\n",
      "                                     [\"buy_price\", \"sell_price\"],\n",
      "                                     [\"float64\", \"float64\"])"
     ],
     "language": "python",
     "metadata": {},
     "outputs": []
    },
    {
     "cell_type": "markdown",
     "metadata": {},
     "source": [
      "Now we can do any computation we desire!"
     ]
    },
    {
     "cell_type": "code",
     "collapsed": false,
     "input": [
      "assets_count = sell_price.count()\n",
      "# Numpy vector subtraction\n",
      "gain = sell_price - buy_price\n",
      "cumulative_gain = gain.sum()\n",
      "print(\"In these %d assets, we made $%.02f!\"\n",
      "      % (assets_count, cumulative_gain))"
     ],
     "language": "python",
     "metadata": {},
     "outputs": []
    },
    {
     "cell_type": "markdown",
     "metadata": {},
     "source": [
      "Monary also supports nested document queries; great for schemas that aren't flat!"
     ]
    },
    {
     "cell_type": "code",
     "collapsed": false,
     "input": [
      "funny, stars = client.query(\"twitter\", \"data\",\n",
      "                            {},\n",
      "                            [\"tweet.funny\", \"tweet.stars\"],\n",
      "                            [\"bool\", \"int32\"])\n",
      "\n",
      "print(\"%d funny tweets, %.02f average stars\"\n",
      "      % (funny.sum(), stars.mean()))"
     ],
     "language": "python",
     "metadata": {},
     "outputs": []
    },
    {
     "cell_type": "markdown",
     "metadata": {},
     "source": [
      "<br /><br />\n",
      "Monary Block Query\n",
      "------------------\n",
      "\n",
      "So we can process our data in managable, fixed sized chunks."
     ]
    },
    {
     "cell_type": "code",
     "collapsed": false,
     "input": [
      "cumulative_gain = 0.0\n",
      "assets_count = 0\n",
      "for buy_price_block, sell_price_block in \\\n",
      "    client.block_query(\"finance\", \"assets\",\n",
      "                       {\"sold\": True},\n",
      "                       [\"buy_price\", \"sell_price\"],\n",
      "                       [\"float64\", \"float64\"],\n",
      "                       block_size=1024):\n",
      "    assets_count += sell_price_block.count()\n",
      "    gain = sell_price_block - buy_price_block\n",
      "    cumulative_gain += gain.sum()"
     ],
     "language": "python",
     "metadata": {},
     "outputs": []
    },
    {
     "cell_type": "markdown",
     "metadata": {},
     "source": [
      "And we end up with the same result."
     ]
    },
    {
     "cell_type": "code",
     "collapsed": false,
     "input": [
      "print(\"In these %d assets, we made $%.02f!\"\n",
      "      % (assets_count, cumulative_gain))"
     ],
     "language": "python",
     "metadata": {},
     "outputs": []
    },
    {
     "cell_type": "markdown",
     "metadata": {},
     "source": [
      "<br /><br />\n",
      "Aggregation\n",
      "-----------\n",
      "\n",
      "We already loaded the database with the data from the [MongoDB zipcode data set](http://media.mongodb.org/zips.json).  \n",
      "``mongoimport --db zips --collection data zips.json``\n",
      "\n",
      "The data looks like this:"
     ]
    },
    {
     "cell_type": "markdown",
     "metadata": {},
     "source": [
      "    {\n",
      "        \"_id\" : \"10001\",\n",
      "        \"city\" : \"NEW YORK\",\n",
      "        \"loc\" : [ -73.99670500000001, 40.74838 ],\n",
      "        \"pop\" : 18913,\n",
      "        \"state\" : \"NY\"\n",
      "    }"
     ]
    },
    {
     "cell_type": "markdown",
     "metadata": {},
     "source": [
      "This will show all of the states in the dataset and their populations."
     ]
    },
    {
     "cell_type": "code",
     "collapsed": false,
     "input": [
      "pipeline = [{\"$group\" : {\"_id\" : \"$state\",\n",
      "                         \"totPop\" : {\"$sum\" : \"$pop\"}}}]\n",
      "\n",
      "states, population = client.aggregate(\"zips\", \"data\",\n",
      "                                      pipeline,\n",
      "                                      [\"_id\", \"totPop\"],\n",
      "                                      [\"string:2\", \"int64\"])\n",
      "\n",
      "strs = list(map(lambda x: x.decode(\"utf-8\"), states))\n",
      "list(\"%s: %d\" % (state, pop)\n",
      "     for (state, pop) in zip(strs, population))[:20] + [\"...\"]"
     ],
     "language": "python",
     "metadata": {},
     "outputs": []
    },
    {
     "cell_type": "markdown",
     "metadata": {},
     "source": [
      "<br /><br />\n",
      "Inserts\n",
      "-------"
     ]
    },
    {
     "cell_type": "code",
     "collapsed": false,
     "input": [
      "ids = client.insert(\"states\", \"data\",\n",
      "                    [states, population],\n",
      "                    [\"state\", \"population\"],\n",
      "                    [\"string:2\", \"int64\"])\n",
      "\n",
      "from monary.monary import mvoid_to_bson_id\n",
      "\n",
      "print(\"Inserted %d documents.\" % len(ids))\n",
      "list(\"%r\" % id for id in map(mvoid_to_bson_id, ids))[:20] + [\"...\"]"
     ],
     "language": "python",
     "metadata": {},
     "outputs": []
    },
    {
     "cell_type": "markdown",
     "metadata": {},
     "source": [
      "--return to slides--"
     ]
    }
   ],
   "metadata": {}
  }
 ]
}